{
 "cells": [
  {
   "cell_type": "code",
   "execution_count": 4,
   "id": "614b1673-36b2-4c65-a6ed-cf4959395e26",
   "metadata": {},
   "outputs": [
    {
     "name": "stdout",
     "output_type": "stream",
     "text": [
      "Requirement already satisfied: numpy in c:\\python312\\lib\\site-packages (1.26.4)\n"
     ]
    }
   ],
   "source": [
    "## Máscaras Booleanas\n",
    "!pip install numpy\n",
    "import numpy as np"
   ]
  },
  {
   "cell_type": "code",
   "execution_count": 7,
   "id": "b420036c-9079-4802-b935-74e9c597b365",
   "metadata": {},
   "outputs": [
    {
     "name": "stdout",
     "output_type": "stream",
     "text": [
      "['Yes' 'No' 'No' 'Yes' 'Yes']\n"
     ]
    }
   ],
   "source": [
    "is_covid19_positive = np.array([\"Yes\", \"No\", \"No\", \"Yes\", \"Yes\"])\n",
    "print(is_covid19_positive)"
   ]
  },
  {
   "cell_type": "code",
   "execution_count": 9,
   "id": "a8e7d0d3-183e-451e-86ca-25b57faf4aea",
   "metadata": {},
   "outputs": [],
   "source": [
    "mask = is_covid19_positive == \"Yes\""
   ]
  },
  {
   "cell_type": "code",
   "execution_count": 15,
   "id": "2fa7f481-4f5c-4e39-8a77-d64ddb438363",
   "metadata": {},
   "outputs": [],
   "source": [
    "is_covid19_positive[mask] = \"C19\""
   ]
  },
  {
   "cell_type": "code",
   "execution_count": 17,
   "id": "f4843281-b209-438e-ae41-6a83671f0a9c",
   "metadata": {},
   "outputs": [
    {
     "name": "stdout",
     "output_type": "stream",
     "text": [
      "['C19' 'No' 'No' 'C19' 'C19']\n"
     ]
    }
   ],
   "source": [
    "print(is_covid19_positive)"
   ]
  },
  {
   "cell_type": "code",
   "execution_count": 19,
   "id": "68121445-f554-4644-a435-7554d8a8b579",
   "metadata": {},
   "outputs": [],
   "source": [
    "notas = np.array([4.9, 6.5, 3.2, 6.7])"
   ]
  },
  {
   "cell_type": "code",
   "execution_count": 20,
   "id": "03c1074a-113b-40ab-9a82-9d0c083eb14d",
   "metadata": {},
   "outputs": [],
   "source": [
    "mask_notas = notas >= 5 "
   ]
  },
  {
   "cell_type": "code",
   "execution_count": 21,
   "id": "47b695f0-8781-46da-85fd-a81555901b03",
   "metadata": {},
   "outputs": [
    {
     "name": "stdout",
     "output_type": "stream",
     "text": [
      "[False  True False  True]\n"
     ]
    }
   ],
   "source": [
    "print(mask_notas)"
   ]
  },
  {
   "cell_type": "code",
   "execution_count": 22,
   "id": "614f1f82-5f09-4b53-af78-f2f0550b0864",
   "metadata": {},
   "outputs": [],
   "source": [
    "## Desafio: Montar lista de notas e fazer máscara pra filtrar quem ficou de recuperação."
   ]
  },
  {
   "cell_type": "code",
   "execution_count": 23,
   "id": "bd6ce056-e397-4be2-a777-a2aa70aa9893",
   "metadata": {},
   "outputs": [
    {
     "name": "stdout",
     "output_type": "stream",
     "text": [
      "[ True  True  True  True False False]\n"
     ]
    }
   ],
   "source": [
    "notas_bruto = np.array([9.8, 5.3, 7.8, 9.0, 2.4, 1.5])\n",
    "mask_notas = notas_bruto >= 5.0\n",
    "print(mask_notas)"
   ]
  }
 ],
 "metadata": {
  "kernelspec": {
   "display_name": "Python 3 (ipykernel)",
   "language": "python",
   "name": "python3"
  },
  "language_info": {
   "codemirror_mode": {
    "name": "ipython",
    "version": 3
   },
   "file_extension": ".py",
   "mimetype": "text/x-python",
   "name": "python",
   "nbconvert_exporter": "python",
   "pygments_lexer": "ipython3",
   "version": "3.12.3"
  }
 },
 "nbformat": 4,
 "nbformat_minor": 5
}
