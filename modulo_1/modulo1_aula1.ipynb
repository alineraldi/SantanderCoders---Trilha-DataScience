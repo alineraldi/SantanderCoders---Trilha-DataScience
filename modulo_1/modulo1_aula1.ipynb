{
 "cells": [
  {
   "cell_type": "code",
   "execution_count": null,
   "id": "137af5a3-0fd5-49bb-8537-a9fb30502042",
   "metadata": {},
   "outputs": [],
   "source": [
    "!pip install numpy\n",
    "!pip install pandas\n",
    "!pip install sklearn\n",
    "!pip install matplotlib"
   ]
  },
  {
   "cell_type": "code",
   "execution_count": null,
   "id": "ff6c6c75-11b6-4b98-8500-ce729ba20487",
   "metadata": {},
   "outputs": [],
   "source": [
    "import numpy as np"
   ]
  },
  {
   "cell_type": "code",
   "execution_count": null,
   "id": "d74ac60c-a47b-4a68-a01d-901f91ce481b",
   "metadata": {},
   "outputs": [],
   "source": [
    "# matrizes\n",
    "matriz_zeros = np.zeros((5, 3))\n",
    "print(matriz_zeros)"
   ]
  },
  {
   "cell_type": "code",
   "execution_count": null,
   "id": "5e323d12-5453-455d-8de5-2ae85b4b1a3c",
   "metadata": {},
   "outputs": [],
   "source": [
    "## Notas de alunos\n",
    "lista_de_notas = [9.8, 5.6, 7.8, 9.3, 6.5]\n",
    "\n",
    "notas = np.array(lista_de_notas)"
   ]
  },
  {
   "cell_type": "code",
   "execution_count": null,
   "id": "7f46a8bf-35ac-4855-8106-ffcdfe4226e4",
   "metadata": {},
   "outputs": [],
   "source": [
    "print(\"Máximo\", notas.max())"
   ]
  },
  {
   "cell_type": "code",
   "execution_count": null,
   "id": "60c3c2a1-34b8-4e9f-a923-6f90bc37a7a7",
   "metadata": {},
   "outputs": [],
   "source": [
    "print(\"Mínimo\", notas.min())"
   ]
  },
  {
   "cell_type": "code",
   "execution_count": null,
   "id": "40f1fc68-f244-4e0d-8ff7-28a15114e27d",
   "metadata": {},
   "outputs": [],
   "source": [
    "print(\"Desvio padrão\", notas.std())"
   ]
  },
  {
   "cell_type": "code",
   "execution_count": null,
   "id": "a523d004-cb9c-43ef-ba97-0e62f0fc986c",
   "metadata": {},
   "outputs": [],
   "source": [
    "print(\"Média\", notas.mean())"
   ]
  },
  {
   "cell_type": "code",
   "execution_count": null,
   "id": "b04ffb71-b390-4828-8364-a4db259ffafd",
   "metadata": {},
   "outputs": [],
   "source": [
    "print(\"Posição menor\", notas.argmin())"
   ]
  },
  {
   "cell_type": "code",
   "execution_count": null,
   "id": "665869dc-22fd-43b4-a640-f794b3cc9615",
   "metadata": {},
   "outputs": [],
   "source": [
    "## Desafio: escrever um programa que pede pra um usuário digitar 10 numeros, transformar num array do numpy e fazer operações pra explorar.\n",
    "\n",
    "num1 = input(\"Por favor, digite um número: \")\n",
    "num2 = input(\"Por favor, digite um número: \")\n",
    "num3 = input(\"Por favor, digite um número: \")\n",
    "num4 = input(\"Por favor, digite um número: \")\n",
    "num5 = input(\"Por favor, digite um número: \")\n",
    "num6 = input(\"Por favor, digite um número: \")\n",
    "num7 = input(\"Por favor, digite um número: \")\n",
    "num8 = input(\"Por favor, digite um número: \")\n",
    "num9 = input(\"Por favor, digite um número: \")\n",
    "num10 = input(\"Por favor, digite um número: \")\n",
    "\n",
    "lista_de_numeros = [float(num1), float(num2), float(num3), float(num4), float(num5), float(num6), float(num7), float(num8), float(num9), float(num10)]\n",
    "\n",
    "numLista = np.array(lista_de_numeros)\n",
    "\n",
    "print(\"Máximo\", numLista.max())\n",
    "print(\"Posição menor\", numLista.argmin())"
   ]
  },
  {
   "cell_type": "code",
   "execution_count": null,
   "id": "202491c7-901e-46a2-a970-b00c88ed1b8a",
   "metadata": {},
   "outputs": [],
   "source": []
  }
 ],
 "metadata": {
  "kernelspec": {
   "display_name": "Python 3 (ipykernel)",
   "language": "python",
   "name": "python3"
  },
  "language_info": {
   "codemirror_mode": {
    "name": "ipython",
    "version": 3
   },
   "file_extension": ".py",
   "mimetype": "text/x-python",
   "name": "python",
   "nbconvert_exporter": "python",
   "pygments_lexer": "ipython3",
   "version": "3.12.3"
  }
 },
 "nbformat": 4,
 "nbformat_minor": 5
}
